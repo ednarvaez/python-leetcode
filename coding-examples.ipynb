{
 "cells": [
  {
   "cell_type": "code",
   "execution_count": 66,
   "id": "a17bb796-d0ed-4b77-b4e3-0f8435943a38",
   "metadata": {},
   "outputs": [
    {
     "name": "stdout",
     "output_type": "stream",
     "text": [
      "i = 0 bit = 1, n =110111011 result=,0\n",
      "i = 1 bit = 1, n =11011101 result=,1\n",
      "i = 2 bit = 0, n =1101110 result=,11\n",
      "i = 3 bit = 1, n =110111 result=,110\n",
      "i = 4 bit = 1, n =11011 result=,1101\n",
      "i = 5 bit = 1, n =1101 result=,11011\n",
      "i = 6 bit = 0, n =110 result=,110111\n",
      "i = 7 bit = 1, n =11 result=,1101110\n",
      "Final: n=1, result = 11011101\n"
     ]
    }
   ],
   "source": [
    "\"\"\"  Reverse n\n",
    "  Let's say n = 1101 (binary):\n",
    "  - n = 1101 >> 1 = 0110 \n",
    "\n",
    "  Initial: n = 1101, result = 0000\n",
    "\n",
    "  Iteration 1:\n",
    "  - bit = 1101 & 1 = 1\n",
    "  - result = (0000 << 1) | 1 = 0001    #result = shift left 1 bit then OR a 1\n",
    "  - n = 1101 >> 1 = 0110               #n = shift right 1 bit\n",
    "\n",
    "  Iteration 2:\n",
    "  - bit = 0110 & 1 = 0\n",
    "  - result = (0001 << 1) | 0 = 0010\n",
    "  - n = 0110 >> 1 = 0011\n",
    "\n",
    "  Iteration 3:\n",
    "  - bit = 0011 & 1 = 1\n",
    "  - result = (0010 << 1) | 1 = 0101\n",
    "  - n = 0011 >> 1 = 0001\n",
    "\n",
    "  Iteration 4:\n",
    "  - bit = 0001 & 1 = 1\n",
    "  - result = (0101 << 1) | 1 = 1011\n",
    "  - n = 0001 >> 1 = 0000\n",
    "\n",
    "  Result: 1101 becomes 1011 (reading the bits in reverse order)\n",
    "\n",
    "\"\"\" \n",
    "n = 0b110111011\n",
    "result = 0b00000000\n",
    "bit =0\n",
    "for i in range(8):\n",
    "    # Extract least significant bit\n",
    "    bit = n & 1\n",
    "    print(f\"i = {i} bit = {bit}, n ={n:b} result=,{result:b}\")\n",
    "    \n",
    "    # Shift result left and add the bit\n",
    "    result = (result << 1) | bit\n",
    "    # Shift n right to process next bit\n",
    "    n >>= 1\n",
    "\n",
    "print(f\"Final: n={n:b}, result = {result:b}\")"
   ]
  },
  {
   "cell_type": "code",
   "execution_count": 58,
   "id": "9c43be9b-2b48-462c-ab64-0a5bd63bff57",
   "metadata": {
    "scrolled": true
   },
   "outputs": [
    {
     "name": "stdout",
     "output_type": "stream",
     "text": [
      "Final result = 1101\n"
     ]
    }
   ],
   "source": [
    "n = 0b10110\n",
    "result = 0\n",
    "bit =0\n",
    "for i in range (5):\n",
    "    bit = n & 1\n",
    "    result = (result << 1) | bit\n",
    "    n = (n >> 1)\n",
    "print (f\"Final result = {result:b}\")"
   ]
  },
  {
   "cell_type": "code",
   "execution_count": 65,
   "id": "54fc8145-bd97-47ce-87e0-298e7e413247",
   "metadata": {},
   "outputs": [
    {
     "name": "stdout",
     "output_type": "stream",
     "text": [
      "01101000000000000000000000000000\n"
     ]
    }
   ],
   "source": [
    "\"\"\"can we reverse string, using built in function\"\"\"\n",
    "n = 0b10110\n",
    "text = format(n,'032b')\n",
    "reversed = text[::-1]\n",
    "print(reversed)"
   ]
  },
  {
   "cell_type": "code",
   "execution_count": null,
   "id": "52d18a34-5c7e-4e2e-8b27-bff5957a7c05",
   "metadata": {},
   "outputs": [],
   "source": []
  },
  {
   "cell_type": "code",
   "execution_count": 67,
   "id": "b108703b-a604-4860-b1c1-4ea1c0b4d4dc",
   "metadata": {},
   "outputs": [
    {
     "name": "stdout",
     "output_type": "stream",
     "text": [
      " 101 is odd.\n"
     ]
    }
   ],
   "source": [
    "\"\"\"Check if odd/even using bitwise \"\"\"\n",
    "num = 0b0101\n",
    "is_odd = num & 1\n",
    "if is_odd == 1:\n",
    "    print(f\" {num:b} is odd.\")\n",
    "else:\n",
    "    print(f\" {num:b} is even.\")\n"
   ]
  },
  {
   "cell_type": "code",
   "execution_count": 26,
   "id": "af62bed4-5f10-4354-a37e-af5d33eae77a",
   "metadata": {},
   "outputs": [
    {
     "name": "stdout",
     "output_type": "stream",
     "text": [
      " 101 is even 1\n"
     ]
    }
   ],
   "source": [
    "num == 0b01010\n",
    "is_even = num & 1\n",
    "print(f\" {num:b} is even {is_even}\")"
   ]
  },
  {
   "cell_type": "code",
   "execution_count": null,
   "id": "64e15447-d4e0-4699-a0d0-0055c47f17d4",
   "metadata": {},
   "outputs": [],
   "source": []
  },
  {
   "cell_type": "code",
   "execution_count": 37,
   "id": "9fc6f880-69b5-453c-b7cd-1944c33b5c86",
   "metadata": {
    "jupyter": {
     "source_hidden": true
    }
   },
   "outputs": [
    {
     "name": "stdout",
     "output_type": "stream",
     "text": [
      "a = 101 b= 11 result = 110\n",
      "\n",
      "a = 5, b=3\n",
      "a = 3, b=5\n"
     ]
    }
   ],
   "source": [
    "\"\"\" ^ exclusive or.   for swapping bits\n",
    "  a = 5\n",
    "  b = 3\n",
    "  a = a ^ b    # a = 5 ^ 3 = 6\n",
    "  b = a ^ b    # b = 6 ^ 3 = 5\n",
    "  a = a ^ b    # a = 6 ^ 5 = 3\n",
    "  # Now a=3, b=5 (swapped!)\n",
    "\n",
    "\"\"\"\n",
    "a = 0b0101\n",
    "b = 0b0011\n",
    "result = a^b\n",
    "print (f\"a = {a:b} b= {b:b} result = {result:b}\")\n",
    "\n",
    "print()\n",
    "print(f\"a = {a}, b={b}\")\n",
    "a = a^b\n",
    "b = a^b\n",
    "a = a^b\n",
    "print(f\"a = {a}, b={b}\")"
   ]
  },
  {
   "cell_type": "code",
   "execution_count": null,
   "id": "f85593bc-d63a-471e-a219-820bfa985322",
   "metadata": {},
   "outputs": [],
   "source": []
  },
  {
   "cell_type": "code",
   "execution_count": 59,
   "id": "997c3c8c-cd86-45d9-b2ec-c3485b209c80",
   "metadata": {
    "scrolled": true
   },
   "outputs": [
    {
     "name": "stdout",
     "output_type": "stream",
     "text": [
      "2 is power of two: True\n",
      "4 is power of two: True\n",
      "6 is power of two: False\n",
      "8 is power of two: True\n",
      "16 is power of two: True\n",
      "24 is power of two: False\n",
      "32 is power of two: True\n",
      "3 is power of two: False\n",
      "7 is power of two: False\n",
      "9 is power of two: False\n"
     ]
    }
   ],
   "source": [
    "\"\"\"power of 2\n",
    "2^0 = 1  00000001\n",
    "2^1 = 2  00000010\n",
    "2^2 = 4  00000100\n",
    "2^3 = 8  00001000\n",
    "2^4 = 16 00010000\n",
    "2^5 = 32 00100000\n",
    "\"\"\"\n",
    "\n",
    "numbers = [2,4,6,8,16,24,32,3,7,9]\n",
    "\n",
    "def is_power_of_two(num):\n",
    "    if num <= 0:\n",
    "        return False\n",
    "    return (num & (num-1)) == 0   #andinf \n",
    "\n",
    "for num in numbers:\n",
    "    result = is_power_of_two(num)\n",
    "    print (f\"{num} is power of two: {result}\")  "
   ]
  },
  {
   "cell_type": "code",
   "execution_count": 61,
   "id": "ec277206-2dfd-4e0d-81e0-9fd83ca4ef76",
   "metadata": {},
   "outputs": [
    {
     "name": "stdout",
     "output_type": "stream",
     "text": [
      "ponmlkjihgfedcba\n"
     ]
    }
   ],
   "source": [
    "\"\"\"reverse a string using built in SLICE NOTATION WITH NEGATIVE STEP\n",
    "  name[::-1]\n",
    "  #    ^^^\n",
    "  #    |||\n",
    "  #    ||+-- step = -1 (go backwards)\n",
    "  #    |+--- stop = (empty, means end)\n",
    "  #    +---- start = (empty, means beginning)\n",
    "\n",
    "  text = 'Hello World\"\n",
    "  print(text[::2])     # \"HloWrd\" (every 2nd char)\n",
    "  print(text[1::2])    # \"el ol\" (every 2nd char starting at index 1)\n",
    "  print(text[::-2])    # \"drWolH\" (every 2nd char backwards)\n",
    "\n",
    "\"\"\"\n",
    "name = \"abcdefghijklmnop\"\n",
    "reversed_name = name[::-1]\n",
    "print (reversed_name)"
   ]
  },
  {
   "cell_type": "code",
   "execution_count": 70,
   "id": "fa99d106-0580-4f1c-9eff-ff54dce4e7c3",
   "metadata": {},
   "outputs": [
    {
     "name": "stdout",
     "output_type": "stream",
     "text": [
      "[4, 6, 3, 8, 9, 0, 0]\n"
     ]
    }
   ],
   "source": [
    "\"\"\"move 0s to end of list \"\"\"\n",
    "\n",
    "list = [0,4,0,6,3,8,9]\n",
    "\n",
    "for num in list:\n",
    "    if num == 0:\n",
    "        list.remove(num)\n",
    "        list.append(num)\n",
    "\n",
    "print(list)"
   ]
  },
  {
   "cell_type": "markdown",
   "id": "e0b080da-0e68-4a4d-9b48-77b0ef1a1399",
   "metadata": {},
   "source": [
    "#### \"\"\"is a number a perfect square\n",
    "\n",
    "num = 17\n",
    "1^2 = 1\n",
    "2^2 = 4\n",
    "3^2 = 9\n",
    "4^2 = 16\n",
    "5^2 = 25  #stop after value > num\n",
    "but that method is too slow\n",
    "\n",
    "iteration #1\n",
    "L = 1\n",
    "R = 17(num)\n",
    "M = 8  middle value\n",
    "8^2 > 17\n",
    "\n",
    "L = 1\n",
    "R = 7\n",
    "M = 4\n",
    "4^2 = 16\n",
    "\n",
    "start l - 1 and r\n",
    "\n",
    "\"\"\"\n",
    "\n",
    "def isPerfectSquare (num:int) -> bool:\n",
    "# example num=17\n",
    "    \n",
    "    l = 1\n",
    "    r = num     #17 \n",
    "    \n",
    "\n",
    "    while l <= r:\n",
    "        m = (l+r)//2     #middle        \n",
    "        msquared = m*m\n",
    "\n",
    "        if num == msquared:\n",
    "            return True\n",
    "        elif msquared < num:\n",
    "            l = m+1\n",
    "        else:\n",
    "            r = m -1\n",
    "\n",
    "    return False\n",
    "\n",
    "isPerfectSquare(17)"
   ]
  }
 ],
 "metadata": {
  "kernelspec": {
   "display_name": "Python 3 (ipykernel)",
   "language": "python",
   "name": "python3"
  },
  "language_info": {
   "codemirror_mode": {
    "name": "ipython",
    "version": 3
   },
   "file_extension": ".py",
   "mimetype": "text/x-python",
   "name": "python",
   "nbconvert_exporter": "python",
   "pygments_lexer": "ipython3",
   "version": "3.12.3"
  }
 },
 "nbformat": 4,
 "nbformat_minor": 5
}

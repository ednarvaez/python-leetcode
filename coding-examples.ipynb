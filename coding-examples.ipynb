{
 "cells": [
  {
   "cell_type": "code",
   "execution_count": 18,
   "id": "a17bb796-d0ed-4b77-b4e3-0f8435943a38",
   "metadata": {},
   "outputs": [
    {
     "name": "stdout",
     "output_type": "stream",
     "text": [
      "i = 0 bit = 1, n =1101 result=,0\n",
      "i = 1 bit = 0, n =110 result=,1\n",
      "i = 2 bit = 1, n =11 result=,10\n",
      "i = 3 bit = 1, n =1 result=,101\n",
      "Final: n=0, result = 1011\n"
     ]
    }
   ],
   "source": [
    "\"\"\"  Reverse n\n",
    "  Let's say n = 1101 (binary):\n",
    "\n",
    "  Initial: n = 1101, result = 0000\n",
    "\n",
    "  Iteration 1:\n",
    "  - bit = 1101 & 1 = 1\n",
    "  - result = (0000 << 1) | 1 = 0001\n",
    "  - n = 1101 >> 1 = 0110\n",
    "\n",
    "  Iteration 2:\n",
    "  - bit = 0110 & 1 = 0\n",
    "  - result = (0001 << 1) | 0 = 0010\n",
    "  - n = 0110 >> 1 = 0011\n",
    "\n",
    "  Iteration 3:\n",
    "  - bit = 0011 & 1 = 1\n",
    "  - result = (0010 << 1) | 1 = 0101\n",
    "  - n = 0011 >> 1 = 0001\n",
    "\n",
    "  Iteration 4:\n",
    "  - bit = 0001 & 1 = 1\n",
    "  - result = (0101 << 1) | 1 = 1011\n",
    "  - n = 0001 >> 1 = 0000\n",
    "\n",
    "  Result: 1101 becomes 1011 (reading the bits in reverse order)\n",
    "\n",
    "\"\"\" \n",
    "n = 0b1101\n",
    "result = 0b0000\n",
    "bit =0\n",
    "for i in range(4):\n",
    "    # Extract least significant bit\n",
    "    bit = n & 1\n",
    "    print(f\"i = {i} bit = {bit}, n ={n:b} result=,{result:b}\")\n",
    "    \n",
    "    # Shift result left and add the bit\n",
    "    result = (result << 1) | bit\n",
    "    # Shift n right to process next bit\n",
    "    n >>= 1\n",
    "\n",
    "print(f\"Final: n={n:b}, result = {result:b}\")"
   ]
  },
  {
   "cell_type": "code",
   "execution_count": null,
   "id": "9c43be9b-2b48-462c-ab64-0a5bd63bff57",
   "metadata": {},
   "outputs": [],
   "source": []
  },
  {
   "cell_type": "code",
   "execution_count": 25,
   "id": "b108703b-a604-4860-b1c1-4ea1c0b4d4dc",
   "metadata": {},
   "outputs": [
    {
     "name": "stdout",
     "output_type": "stream",
     "text": [
      " 101 is odd 1\n"
     ]
    }
   ],
   "source": [
    "\"\"\"Check if odd/even using bitwise \"\"\"\n",
    "num = 0b0101\n",
    "is_odd = num & 1\n",
    "print(f\" {num:b} is odd {is_odd}\")"
   ]
  },
  {
   "cell_type": "code",
   "execution_count": 26,
   "id": "af62bed4-5f10-4354-a37e-af5d33eae77a",
   "metadata": {},
   "outputs": [
    {
     "name": "stdout",
     "output_type": "stream",
     "text": [
      " 101 is even 1\n"
     ]
    }
   ],
   "source": [
    "num == 0b01010\n",
    "is_even = num & 1\n",
    "print(f\" {num:b} is even {is_even}\")"
   ]
  },
  {
   "cell_type": "code",
   "execution_count": null,
   "id": "64e15447-d4e0-4699-a0d0-0055c47f17d4",
   "metadata": {},
   "outputs": [],
   "source": []
  },
  {
   "cell_type": "code",
   "execution_count": 37,
   "id": "9fc6f880-69b5-453c-b7cd-1944c33b5c86",
   "metadata": {},
   "outputs": [
    {
     "name": "stdout",
     "output_type": "stream",
     "text": [
      "a = 101 b= 11 result = 110\n",
      "\n",
      "a = 5, b=3\n",
      "a = 3, b=5\n"
     ]
    }
   ],
   "source": [
    "\"\"\" ^ exclusive or.   for swapping bits\n",
    "  a = 5\n",
    "  b = 3\n",
    "  a = a ^ b    # a = 5 ^ 3 = 6\n",
    "  b = a ^ b    # b = 6 ^ 3 = 5\n",
    "  a = a ^ b    # a = 6 ^ 5 = 3\n",
    "  # Now a=3, b=5 (swapped!)\n",
    "\n",
    "\"\"\"\n",
    "a = 0b0101\n",
    "b = 0b0011\n",
    "result = a^b\n",
    "print (f\"a = {a:b} b= {b:b} result = {result:b}\")\n",
    "\n",
    "print()\n",
    "print(f\"a = {a}, b={b}\")\n",
    "a = a^b\n",
    "b = a^b\n",
    "a = a^b\n",
    "print(f\"a = {a}, b={b}\")"
   ]
  },
  {
   "cell_type": "code",
   "execution_count": null,
   "id": "f85593bc-d63a-471e-a219-820bfa985322",
   "metadata": {},
   "outputs": [],
   "source": []
  },
  {
   "cell_type": "code",
   "execution_count": 48,
   "id": "997c3c8c-cd86-45d9-b2ec-c3485b209c80",
   "metadata": {},
   "outputs": [
    {
     "name": "stdout",
     "output_type": "stream",
     "text": [
      "2 is power of two: True\n",
      "4 is power of two: True\n",
      "6 is power of two: False\n",
      "8 is power of two: True\n",
      "16 is power of two: True\n",
      "24 is power of two: False\n",
      "32 is power of two: True\n",
      "3 is power of two: False\n",
      "7 is power of two: False\n",
      "9 is power of two: False\n"
     ]
    }
   ],
   "source": [
    "\"\"\"power of 2\"\"\"\n",
    "\n",
    "numbers = [2,4,6,8,16,24,32,3,7,9]\n",
    "\n",
    "def is_power_of_two(num):\n",
    "    if num <= 0:\n",
    "        return False\n",
    "    return (num & (num-1)) == 0\n",
    "\n",
    "for num in numbers:\n",
    "    result = is_power_of_two(num)\n",
    "    print (f\"{num} is power of two: {result}\")  "
   ]
  }
 ],
 "metadata": {
  "kernelspec": {
   "display_name": "Python 3 (ipykernel)",
   "language": "python",
   "name": "python3"
  },
  "language_info": {
   "codemirror_mode": {
    "name": "ipython",
    "version": 3
   },
   "file_extension": ".py",
   "mimetype": "text/x-python",
   "name": "python",
   "nbconvert_exporter": "python",
   "pygments_lexer": "ipython3",
   "version": "3.12.3"
  }
 },
 "nbformat": 4,
 "nbformat_minor": 5
}
